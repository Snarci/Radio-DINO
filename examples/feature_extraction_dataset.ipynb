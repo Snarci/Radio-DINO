{
 "cells": [
  {
   "cell_type": "code",
   "execution_count": 45,
   "metadata": {},
   "outputs": [],
   "source": [
    "from torchvision import transforms\n",
    "import timm\n",
    "from torch.utils.data import  DataLoader\n",
    "from torchvision.datasets import ImageFolder\n",
    "import pandas as pd\n",
    "import torch\n",
    "from tqdm import tqdm"
   ]
  },
  {
   "cell_type": "code",
   "execution_count": 46,
   "metadata": {},
   "outputs": [],
   "source": [
    "#model zoo\n",
    "BASE_CHECKPOINT = \"hf_hub:Snarcy/RadioDino-b16\"\n",
    "SMALL_CHECKPOINT = \"hf_hub:Snarcy/RadioDino-s16\"\n",
    "SMALL_CHECKPOINT_P8 = \"hf_hub:Snarcy/RadioDino-s16\"\n",
    "\n",
    "DATASET_PATH=\"C:/Users/lucat/Documents/MEDMINST/data_split/pneumoniamnist_224/train\"\n",
    "OUTPUT_PATH=\"embeddings.csv\""
   ]
  },
  {
   "cell_type": "code",
   "execution_count": 47,
   "metadata": {},
   "outputs": [],
   "source": [
    "#Red Dino preprocess\n",
    "def preprocess(image):\n",
    "    transform = transforms.Compose([\n",
    "        transforms.Resize((224, 224)),\n",
    "        transforms.ToTensor(),\n",
    "        transforms.Normalize(mean=[0.485, 0.456, 0.406],\n",
    "                             std=[0.229, 0.224, 0.225]),\n",
    "    ])\n",
    "    return transform(image).unsqueeze(0)\n",
    "\n",
    "#Load a Red Dino model from our model zoo\n",
    "\n",
    "model = timm.create_model(SMALL_CHECKPOINT, pretrained=True)"
   ]
  },
  {
   "cell_type": "code",
   "execution_count": 48,
   "metadata": {},
   "outputs": [],
   "source": [
    "#create a dataset and dataloader from the dataset path\n",
    "dataset = ImageFolder(DATASET_PATH, transform=preprocess)\n",
    "dataloader = DataLoader(dataset, batch_size=32, shuffle=True)"
   ]
  },
  {
   "cell_type": "code",
   "execution_count": 49,
   "metadata": {},
   "outputs": [
    {
     "name": "stderr",
     "output_type": "stream",
     "text": [
      "100%|██████████| 148/148 [00:12<00:00, 11.56it/s]\n"
     ]
    }
   ],
   "source": [
    "\n",
    "#Get the model to eval mode\n",
    "model.eval()\n",
    "#Get the model to GPU if available\n",
    "device = \"cuda\" if torch.cuda.is_available() else \"cpu\"\n",
    "model.to(device)\n",
    "#Create a list to store the embeddings\n",
    "embeddings = []\n",
    "#Create a list to store the labels\n",
    "labels = []\n",
    "#Create a list to store the filenames\n",
    "filenames = []\n",
    "#Iterate over the dataloader\n",
    "for  images, label in tqdm(dataloader):\n",
    "    #Move the images to the GPU if available\n",
    "    images = images.to(device)\n",
    "    #if has 5 dimensions, remove the 2 dimension\n",
    "    if images.dim() == 5:\n",
    "        images = images.squeeze(1)\n",
    "    with torch.no_grad():\n",
    "        embedding = model(images)\n",
    "    #Move the embeddings to CPU\n",
    "    embedding = embedding.cpu()\n",
    "    #Append the embeddings to the list\n",
    "    embeddings.append(embedding)\n",
    "    #Append the labels to the list\n",
    "    labels.append(label)\n",
    "#Append the filenames to the list\n",
    "filenames.append(dataloader.dataset.samples)\n",
    "#Concatenate the embeddings and labels\n",
    "embeddings = torch.cat(embeddings, dim=0)\n",
    "labels = torch.cat(labels, dim=0)\n",
    "#Concatenate the filenames\n",
    "filenames = [item for sublist in filenames for item in sublist]\n",
    "#Create a dataframe from the embeddin7gs, labels and filenames\n",
    "df = pd.DataFrame(embeddings.numpy())\n",
    "\n",
    "    "
   ]
  },
  {
   "cell_type": "code",
   "execution_count": 50,
   "metadata": {},
   "outputs": [
    {
     "name": "stdout",
     "output_type": "stream",
     "text": [
      "Embeddings shape:  torch.Size([4708, 384])\n",
      "Labels shape:  torch.Size([4708])\n",
      "Filenames shape:  4708\n",
      "Embeddings saved to embeddings.csv\n"
     ]
    }
   ],
   "source": [
    "print(\"Embeddings shape: \", embeddings.shape)\n",
    "print(\"Labels shape: \", labels.shape)\n",
    "print(\"Filenames shape: \", len(filenames))\n",
    "\n",
    "df['label'] = labels.numpy()\n",
    "df['filename'] = filenames\n",
    "#move the label and filename columns to the front\n",
    "df = df[['label', 'filename'] + [col for col in df.columns if col not in ['label', 'filename']]]\n",
    "#Save the dataframe to a csv file\n",
    "df.to_csv(OUTPUT_PATH, index=False)\n",
    "print(f\"Embeddings saved to {OUTPUT_PATH}\")"
   ]
  }
 ],
 "metadata": {
  "kernelspec": {
   "display_name": "Python 3",
   "language": "python",
   "name": "python3"
  },
  "language_info": {
   "codemirror_mode": {
    "name": "ipython",
    "version": 3
   },
   "file_extension": ".py",
   "mimetype": "text/x-python",
   "name": "python",
   "nbconvert_exporter": "python",
   "pygments_lexer": "ipython3",
   "version": "3.9.0"
  }
 },
 "nbformat": 4,
 "nbformat_minor": 2
}
