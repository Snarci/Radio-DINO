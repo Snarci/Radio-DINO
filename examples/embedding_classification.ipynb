{
 "cells": [
  {
   "cell_type": "code",
   "execution_count": 8,
   "metadata": {},
   "outputs": [],
   "source": [
    "from sklearn.ensemble import RandomForestClassifier\n",
    "from sklearn.model_selection import train_test_split\n",
    "from sklearn.metrics import accuracy_score, f1_score, recall_score, precision_score\n",
    "from sklearn.model_selection import KFold\n",
    "import numpy as np\n",
    "import pandas as pd"
   ]
  },
  {
   "cell_type": "code",
   "execution_count": 9,
   "metadata": {},
   "outputs": [],
   "source": [
    "#after running the feature extraction script, load the data\n",
    "df = pd.read_csv('embeddings.csv')\n",
    "\n",
    "#drop the filename column \n",
    "df = df.drop(columns=['filename'])\n",
    "\n",
    "#use the label column as the y value\n",
    "y = df['label']\n",
    "#drop the label column\n",
    "X = df.drop(columns=['label'])"
   ]
  },
  {
   "cell_type": "code",
   "execution_count": 10,
   "metadata": {},
   "outputs": [],
   "source": [
    "#prepare the data for training using KFold cross-validation\n",
    "kf = KFold(n_splits=5, shuffle=True, random_state=42)\n",
    "#initialize the model\n",
    "model = RandomForestClassifier(n_estimators=100, random_state=42)\n",
    "#initialize a list to store the results\n",
    "results = []\n",
    "metrics = ['precision', 'recall', 'f1-score', 'accuracy']\n",
    "#initialize a list to store the metrics\n",
    "metrics_list = []\n",
    "\n",
    "\n",
    "#loop through the folds\n",
    "for train_index, test_index in kf.split(X):\n",
    "    #split the data into training and testing sets\n",
    "    X_train, X_test = X.iloc[train_index], X.iloc[test_index]\n",
    "    y_train, y_test = y.iloc[train_index], y.iloc[test_index]\n",
    "    \n",
    "    #fit the model to the training data\n",
    "    model.fit(X_train, y_train)\n",
    "    \n",
    "    #make predictions on the test data\n",
    "    y_pred = model.predict(X_test)\n",
    "    \n",
    "    #calculate the metrics\n",
    "    accuracy = accuracy_score(y_test, y_pred)\n",
    "    precision = precision_score(y_test, y_pred, average='macro')\n",
    "    recall = recall_score(y_test, y_pred, average='macro')\n",
    "    f1 = f1_score(y_test, y_pred, average='macro')\n",
    "    #append the metrics to the list\n",
    "    metrics_list.append([accuracy, precision, recall, f1])\n",
    "    #append the results to the list\n",
    "    results.append({\n",
    "        'accuracy': accuracy,\n",
    "        'precision': precision,\n",
    "        'recall': recall,\n",
    "        'f1-score': f1\n",
    "    })\n",
    "\n",
    "\n",
    "\n",
    "    \n",
    "    \n"
   ]
  },
  {
   "cell_type": "code",
   "execution_count": 11,
   "metadata": {},
   "outputs": [
    {
     "name": "stdout",
     "output_type": "stream",
     "text": [
      "precision 0.9607 ± 0.0052\n",
      "recall 0.9512 ± 0.0095\n",
      "f1-score 0.9461 ± 0.0117\n",
      "accuracy 0.9483 ± 0.0066\n"
     ]
    }
   ],
   "source": [
    "# get the mean of the metrics and standard deviation and print them\n",
    "metrics_df = pd.DataFrame(metrics_list, columns=metrics)\n",
    "mean_metrics = metrics_df.mean()\n",
    "std_metrics = metrics_df.std()\n",
    "\n",
    "for metric in metrics:\n",
    "    print(f'{metric} {mean_metrics[metric]:.4f} ± {std_metrics[metric]:.4f}')\n",
    "    \n",
    "   \n"
   ]
  }
 ],
 "metadata": {
  "kernelspec": {
   "display_name": "Python 3",
   "language": "python",
   "name": "python3"
  },
  "language_info": {
   "codemirror_mode": {
    "name": "ipython",
    "version": 3
   },
   "file_extension": ".py",
   "mimetype": "text/x-python",
   "name": "python",
   "nbconvert_exporter": "python",
   "pygments_lexer": "ipython3",
   "version": "3.9.0"
  }
 },
 "nbformat": 4,
 "nbformat_minor": 2
}
